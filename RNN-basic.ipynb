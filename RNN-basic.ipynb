{
 "cells": [
  {
   "cell_type": "code",
   "execution_count": 4,
   "metadata": {},
   "outputs": [
    {
     "name": "stdout",
     "output_type": "stream",
     "text": [
      "2.4.0\n"
     ]
    }
   ],
   "source": [
    "import tensorflow as tf\n",
    "import numpy as np\n",
    "from tensorflow import keras\n",
    "from tensorflow.keras import layers\n",
    "\n",
    "print(tf.__version__)"
   ]
  },
  {
   "cell_type": "markdown",
   "metadata": {},
   "source": [
    "## One hot encoding"
   ]
  },
  {
   "cell_type": "code",
   "execution_count": 5,
   "metadata": {},
   "outputs": [],
   "source": [
    "h = [1,0,0,0]\n",
    "e = [0,1,0,0]\n",
    "l = [0,0,1,0]\n",
    "o = [0,0,0,1]"
   ]
  },
  {
   "cell_type": "markdown",
   "metadata": {},
   "source": [
    "."
   ]
  },
  {
   "cell_type": "markdown",
   "metadata": {},
   "source": [
    "## Unfolding to n sequences : 4 input-dim, 2 hidden_size"
   ]
  },
  {
   "cell_type": "code",
   "execution_count": 19,
   "metadata": {},
   "outputs": [
    {
     "data": {
      "text/plain": [
       "(array([[[ 0.49136233, -0.0588884 ]]], dtype=float32),\n",
       " array([[ 0.49136233, -0.0588884 ]], dtype=float32))"
      ]
     },
     "execution_count": 19,
     "metadata": {},
     "output_type": "execute_result"
    }
   ],
   "source": [
    "x_data = np.array([[h]], dtype=np.float32)\n",
    "\n",
    "hidden_size = 2\n",
    "cell = layers.SimpleRNNCell(units=hidden_size)\n",
    "rnn = layers.RNN(cell, return_sequences=True, return_state=True)\n",
    "outputs, states = rnn(x_data)\n",
    "\n",
    "outputs.numpy(), states.numpy()"
   ]
  },
  {
   "cell_type": "code",
   "execution_count": 13,
   "metadata": {},
   "outputs": [
    {
     "name": "stdout",
     "output_type": "stream",
     "text": [
      "x_data:[[[1. 0. 0. 0.]]], shape:(1, 1, 4)\n",
      "outputs:[[[-0.3577779  0.5476667]]], shape:(1, 1, 2)\n",
      "states:[[-0.3577779  0.5476667]], shape:(1, 2)\n"
     ]
    }
   ],
   "source": [
    "print('x_data:{}, shape:{}'.format(x_data, x_data.shape))\n",
    "print('outputs:{}, shape:{}'.format(outputs, outputs.shape)) # 전체 hidden sequence \n",
    "print('states:{}, shape:{}'.format(states, states.shape)) # 마지막 hidden sequence"
   ]
  },
  {
   "cell_type": "markdown",
   "metadata": {},
   "source": [
    "."
   ]
  },
  {
   "cell_type": "markdown",
   "metadata": {},
   "source": [
    "## Batching Input : 4 input-dim, 2 hidden_size, 5 sequences"
   ]
  },
  {
   "cell_type": "code",
   "execution_count": 16,
   "metadata": {},
   "outputs": [],
   "source": [
    "x_data = np.array([[h,e,l,l,o]], dtype=np.float32)\n",
    "\n",
    "hidden_size = 2\n",
    "cell = layers.SimpleRNNCell(units=hidden_size)\n",
    "rnn = layers.RNN(cell, return_sequences=True, return_state=True)\n",
    "outputs, states = rnn(x_data)"
   ]
  },
  {
   "cell_type": "code",
   "execution_count": 15,
   "metadata": {},
   "outputs": [
    {
     "name": "stdout",
     "output_type": "stream",
     "text": [
      "x_data:[[[1. 0. 0. 0.]\n",
      "  [0. 1. 0. 0.]\n",
      "  [0. 0. 1. 0.]\n",
      "  [0. 0. 1. 0.]\n",
      "  [0. 0. 0. 1.]]], shape:(1, 5, 4)\n",
      "outputs:[[[-0.34691697 -0.51700586]\n",
      "  [ 0.89644384  0.8568704 ]\n",
      "  [-0.598336   -0.9110191 ]\n",
      "  [ 0.7746647   0.01344689]\n",
      "  [ 0.75317234 -0.72490406]]], shape:(1, 5, 2)\n",
      "states:[[ 0.75317234 -0.72490406]], shape:(1, 2)\n"
     ]
    }
   ],
   "source": [
    "print('x_data:{}, shape:{}'.format(x_data, x_data.shape))\n",
    "print('outputs:{}, shape:{}'.format(outputs, outputs.shape)) # 전체 hidden sequence \n",
    "print('states:{}, shape:{}'.format(states, states.shape)) # 마지막 hidden sequence"
   ]
  },
  {
   "cell_type": "markdown",
   "metadata": {},
   "source": [
    "."
   ]
  },
  {
   "cell_type": "markdown",
   "metadata": {},
   "source": [
    "## One Cell : 4 input-dim, 2 hidden_size, 5 sequences, 3 batches"
   ]
  },
  {
   "cell_type": "code",
   "execution_count": 17,
   "metadata": {},
   "outputs": [],
   "source": [
    "x_data = np.array([[h,e,l,l,o],\n",
    "                  [e,o,l,l,l],\n",
    "                  [l,l,e,e,l]], dtype=np.float32)\n",
    "\n",
    "hidden_size = 2\n",
    "cell = layers.SimpleRNNCell(units=hidden_size)\n",
    "rnn = layers.RNN(cell, return_sequences=True, return_state=True)\n",
    "outputs, states = rnn(x_data)"
   ]
  },
  {
   "cell_type": "code",
   "execution_count": 18,
   "metadata": {},
   "outputs": [
    {
     "name": "stdout",
     "output_type": "stream",
     "text": [
      "x_data:[[[1. 0. 0. 0.]\n",
      "  [0. 1. 0. 0.]\n",
      "  [0. 0. 1. 0.]\n",
      "  [0. 0. 1. 0.]\n",
      "  [0. 0. 0. 1.]]\n",
      "\n",
      " [[0. 1. 0. 0.]\n",
      "  [0. 0. 0. 1.]\n",
      "  [0. 0. 1. 0.]\n",
      "  [0. 0. 1. 0.]\n",
      "  [0. 0. 1. 0.]]\n",
      "\n",
      " [[0. 0. 1. 0.]\n",
      "  [0. 0. 1. 0.]\n",
      "  [0. 1. 0. 0.]\n",
      "  [0. 1. 0. 0.]\n",
      "  [0. 0. 1. 0.]]], shape:(3, 5, 4)\n",
      "outputs:[[[-0.5967173  -0.56061196]\n",
      "  [ 0.1964272   0.31207407]\n",
      "  [-0.19292851  0.52831924]\n",
      "  [-0.5531037   0.61245817]\n",
      "  [-0.3269624  -0.31911865]]\n",
      "\n",
      " [[ 0.216059   -0.45869324]\n",
      "  [ 0.745684   -0.12447296]\n",
      "  [ 0.4630517   0.46512708]\n",
      "  [-0.11636415  0.28265595]\n",
      "  [-0.37502918  0.6810208 ]]\n",
      "\n",
      " [[-0.11093757  0.7383612 ]\n",
      "  [-0.6135869   0.46753174]\n",
      "  [-0.49623552 -0.3693638 ]\n",
      "  [ 0.132778    0.11642508]\n",
      "  [-0.10057387  0.6472699 ]]], shape:(3, 5, 2)\n",
      "states:[[-0.3269624  -0.31911865]\n",
      " [-0.37502918  0.6810208 ]\n",
      " [-0.10057387  0.6472699 ]], shape:(3, 2)\n"
     ]
    }
   ],
   "source": [
    "print('x_data:{}, shape:{}'.format(x_data, x_data.shape))\n",
    "print('outputs:{}, shape:{}'.format(outputs, outputs.shape)) # 전체 hidden sequence \n",
    "print('states:{}, shape:{}'.format(states, states.shape)) # 마지막 hidden sequence"
   ]
  }
 ],
 "metadata": {
  "kernelspec": {
   "display_name": "Python 3",
   "language": "python",
   "name": "python3"
  },
  "language_info": {
   "codemirror_mode": {
    "name": "ipython",
    "version": 3
   },
   "file_extension": ".py",
   "mimetype": "text/x-python",
   "name": "python",
   "nbconvert_exporter": "python",
   "pygments_lexer": "ipython3",
   "version": "3.7.7"
  }
 },
 "nbformat": 4,
 "nbformat_minor": 5
}
